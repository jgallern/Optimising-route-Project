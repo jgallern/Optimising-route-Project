{
 "cells": [
  {
   "cell_type": "markdown",
   "metadata": {},
   "source": [
    "# Route Optimisation Project\n",
    "\n",
    "* GUG Maxime\n",
    "* AYOUB Simon\n",
    "* KISA Yasin\n",
    "* GALLERNE Jules\n"
   ]
  },
  {
   "cell_type": "markdown",
   "metadata": {},
   "source": [
    "## Table of content\n",
    "\n",
    "* I. [Formal modelling](#1-formal-modelling) \n",
    "* II.  [Algorithmic design and implementation](#2-algorithmic-design-and-implementation)\n",
    "* III. [Experimental study](#3-experimental-study)\n",
    "* IV. [Presentation of the work done to your team (in English) before submitting the deliverables to ADEME](#4-presentation-of-the-work-done-to-your-team-in-english-before-submitting-the-deliverables-to-ademe)"
   ]
  },
  {
   "cell_type": "markdown",
   "metadata": {},
   "source": [
    "## I. Formal modelling \n",
    "\n",
    "### 1. Presentation of the context\n",
    "\n",
    "### 2. Presentation of the problem\n",
    "\n",
    "### 3. Theoratical properties that we'll use and their formalisation \n",
    "\n",
    "### 4. References"
   ]
  },
  {
   "cell_type": "markdown",
   "metadata": {},
   "source": [
    "## II. Algorithmic design and implementation"
   ]
  },
  {
   "cell_type": "markdown",
   "metadata": {},
   "source": [
    "\n",
    "## III. Experimental study"
   ]
  },
  {
   "cell_type": "markdown",
   "metadata": {},
   "source": [
    "## IV. Presentation of the work done to your team (in English) before submitting the deliverables to ADEME"
   ]
  }
 ],
 "metadata": {
  "language_info": {
   "name": "python"
  }
 },
 "nbformat": 4,
 "nbformat_minor": 2
}
