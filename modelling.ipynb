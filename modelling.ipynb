{
 "cells": [
  {
   "cell_type": "markdown",
   "metadata": {},
   "source": [
    "# Route Optimisation Project\n",
    "\n",
    "* GUG Maxime\n",
    "* AYOUB Simon\n",
    "* KISA Yasin\n",
    "* GALLERNE Jules\n"
   ]
  },
  {
   "cell_type": "markdown",
   "metadata": {},
   "source": [
    "## Table of content\n",
    "\n",
    "* I. [Formal modelling](#1-formal-modelling) \n",
    "* II.  [Algorithmic design and implementation](#2-algorithmic-design-and-implementation)\n",
    "* III. [Experimental study](#3-experimental-study)\n",
    "* IV. [Presentation of the work done to your team (in English) before submitting the deliverables to ADEME](#4-presentation-of-the-work-done-to-your-team-in-english-before-submitting-the-deliverables-to-ademe)"
   ]
  },
  {
   "cell_type": "markdown",
   "metadata": {},
   "source": [
    "## I. Formal modelling \n",
    "\n",
    "### 1. Presentation of the context\n",
    "\n",
    "In the context of climate change, ADEME has launched a call for proposals focused on innovative and sustainable mobility solutions for both people and goods. The agency aims to foster experimental projects that demonstrate efficient, sustainable methods for transportation, adapted to different kind of territories and fields. This way, they aim to combat climate change by optimizing existing technologies.\n",
    "\n",
    "As part of CesiCDP, a team with a strong background in Smart Multimodal Mobility, we are a good fit to respond to this call. With our experience developing advanced transportation systems, we recognize both the potential and the challenges of new transport technologies. Although these technologies promise to be cleaner and more economical, they bring their own logistical complexities, especially in resource management. Addressing these issues in transport logistics could be transformative, not only for the industry but for the environment as well-through applications in diverse areas such as mail distribution, product delivery, road network maintenance, waste collection and much more.\n",
    "\n",
    "The objective of this project is to optimize delivery routes to minimize environmental impact while increasing efficiency. Our team’s goal is to propose an algorithmic solution that computes optimal delivery routes across a road network, linking various cities and returning to the origin point. The solution will minimize the total journey time while accounting for projected traffic conditions over various time slots and perhaps trucks capacity.\n",
    "\n",
    "### 2. Presentation of the problem\n",
    "\n",
    "Our Problem is a typical Vehicle routing problem. The Vehicule routing is a classical problem in the field of Transportation. Our goal is to go through each given cities (delivery points) and to return to the starting point in the smallest amount of time possible.\n",
    "We could also take into consideration the opening hours of the clients as well as the capacity of the trucks (either in terms of surface or volume)\n",
    "\n",
    "#### Parameters to take as input\n",
    "list of:\n",
    "* Cities\n",
    "\t* city name\n",
    "\t* city coordinates\n",
    "\t* delivery time slot (optional)\n",
    "\n",
    "* Available trucks (optional)\n",
    "    * Truck Capacity (surface / volume)\n",
    "\n",
    "* Items to deliver (optional)\n",
    "    * Item name\n",
    "    * Item size (surface / volume)\n",
    "    * Item Destination\n",
    "\n",
    "#### Result to return\n",
    "\n",
    "* The shortest path to go to each cities.\n",
    "    * path for each truck (if truck multiple trucks)\n",
    "* Total time for the round trip\n",
    "\n",
    "with:\n",
    "    * Time at each destination (optional)\n",
    "    * Items in each truck (if item list)\n",
    "\n",
    "### 3. Theoratical properties that we'll use and their formalisation \n",
    "\n",
    "We want to prove that our problem is NP-Complete.\n",
    "To do that, we need to demonstrate 2 things:\n",
    "* That our problem $\\in$ NP, that means that we can verify a solution in a polynomial time.\n",
    "* That our problem is at least as hard as another NP-Complete problem (here the Traveling salesman Problem, and then the Hamiltonian cycle). We do that by making a polynomial reduction\n",
    "\n",
    "#### Our problem $\\in$ NP\n",
    "\n",
    "To show that the VRP problem is np, we need to demonstrate that a solution can be verified in a polynomial time.\n",
    "\n",
    "We define our VRP Instance like:\n",
    "\n",
    "* A set of $N$ client and our starting point (deposit) $D$\n",
    "* A fleet of $K$ Vehicle, with a maximal capacity $Q$ for each truck.\n",
    "* A Cost Matrix $C=(c_{ij})$ for $i,j \\in \\{ D,1,2,…,N \\}$, representing the cost of the travel between each pair of client / each pair of client and the deposit.\n",
    "\n",
    "A candidate solution for our problem is a set of route $R_1, R_2, ... , R_k$ for the $K$ available vehicles. Each route $R_k$ should:\n",
    "\n",
    "* Start from our deposit $D$\n",
    "* Respect the capacity $Q$ of the vehicle\n",
    "The $N$ Client should have been visited once\n",
    "\n",
    "To verify that a candidate solution is valide, we can compute the following opération in a polynomial time:\n",
    "1. Verifying that each route $R$ starts from $D$\n",
    "2. Verifying that each client is visited once and only once\n",
    "3. Verifying that the capacity $Q$ of each vehicule is not exceeded\n",
    "4. Calculating the total cost of the routes and verifying that the constraint of cost are respected (if they are defined)\n",
    "5. Verifying that the vehicules deliver during the time slot of each city (if time slots are defined). \\\n",
    "...\n",
    "\n",
    "As we can see, we can verify a candidate solution of our problem in a polynomial time. Therefore, **our VRP problem is a NP problem**\n",
    "\n",
    "\n",
    "\n",
    "#### Our problem NP-Hard\n",
    "\n",
    "In order to show that our problem is NP-HARD, we have to make a polynomial reduction from VRP to the *Travelling Salesman Problem*.\n",
    "\n",
    "As defined earlier, in the VRP, We have $K$ vehicle available with a capacity of $Q$, and we want to have a $K$ routes that goes to all the given cities. The routes must start and finish at the Deposit.\n",
    "\n",
    "In the Travelling Salesman Problem, we have one vehicule, we want to go to each given city and we must start and finish at the same point.\n",
    "\n",
    "So, to reduct our problem to the TSP, we have to say that $K=1$, that we don't care about the capacity because we have 1 salesman to transport. \n",
    "\n",
    "Now that $K=1$, we calculate one path that visits each city exactly once, starting and finishing at one starting point. As you can see, that is the TSP.\n",
    "\n",
    "All the operations we did for the reduction can be computed in a polynomial time, in other words, we can reduce our VRP problem to a TSP problem in a polynomial time. We know that the TSP problem is NP-HARD, so we can say that **our problem is NP-HARD**\n",
    "\n",
    "### 4. References"
   ]
  },
  {
   "cell_type": "markdown",
   "metadata": {},
   "source": [
    "## II. Algorithmic design and implementation"
   ]
  },
  {
   "cell_type": "markdown",
   "metadata": {},
   "source": [
    "\n",
    "## III. Experimental study"
   ]
  },
  {
   "cell_type": "markdown",
   "metadata": {},
   "source": [
    "## IV. Presentation of the work done to your team (in English) before submitting the deliverables to ADEME"
   ]
  }
 ],
 "metadata": {
  "language_info": {
   "name": "python"
  }
 },
 "nbformat": 4,
 "nbformat_minor": 2
}
