{
 "cells": [
  {
   "cell_type": "markdown",
   "metadata": {},
   "source": [
    "# Route Optimisation Project\n",
    "\n",
    "* GUG Maxime\n",
    "* AYOUB Simon\n",
    "* KISA Yasin\n",
    "* GALLERNE Jules\n"
   ]
  },
  {
   "cell_type": "markdown",
   "metadata": {},
   "source": [
    "## Table of content\n",
    "\n",
    "* I. [Formal modelling](#1-formal-modelling) \n",
    "* II.  [Algorithmic design and implementation](#2-algorithmic-design-and-implementation)\n",
    "* III. [Experimental study](#3-experimental-study)\n",
    "* IV. [Presentation of the work done to your team (in English) before submitting the deliverables to ADEME](#4-presentation-of-the-work-done-to-your-team-in-english-before-submitting-the-deliverables-to-ademe)"
   ]
  },
  {
   "cell_type": "markdown",
   "metadata": {},
   "source": [
    "## I. Formal modelling \n",
    "\n",
    "### 1. Presentation of the context\n",
    "\n",
    "In the context of climate change, ADEME has launched a call for proposals focused on innovative, sustainable mobility solutions for both people and goods. The agency aims to foster experimental projects that demonstrate efficient, sustainable methods for transportation, adapted to different kind of territories and fields.\n",
    "\n",
    "As part of CesiCDP, a team with a strong background in Smart Multimodal Mobility, we are well-positioned to respond to this call. With our experience in developing advanced transportation systems, we recognize both the potential and the challenges of new transport technologies. Although these technologies promise to be cleaner and more economical, they bring their own logistical complexities, especially in resource management. Addressing these issues in transport logistics could be transformative, not only for the industry but for the environment as well-through applications in diverse areas such as mail distribution, product delivery, road network maintenance, and waste collection.\n",
    "\n",
    "The objective of this project is to optimize delivery routes to minimize environmental impact and increase efficiency. Our team’s goal is to propose an algorithmic solution that computes optimal delivery routes across a road network, linking various cities and returning to the origin point. The solution will minimize the total journey time while accounting for projected traffic conditions over various time slots.\n",
    "\n",
    "### 2. Presentation of the problem\n",
    "\n",
    "Our Problem is a typical Vehicle routing problem. The Vehicule routing is a classical problem in the field of Transportation. It is the problem of finding the optimal route for a vehicle to travel from a source to a destination. \n",
    "\n",
    "\n",
    "### 3. Theoratical properties that we'll use and their formalisation \n",
    "\n",
    "We want to prove that our problem is NP-Complete.\n",
    "To do that, we need to demonstrate 2 things:\n",
    "* That our problem $\\in$ NP, that means that we can verify a solution in a polynomial time.\n",
    "* That our problem is at least as hard as another NP-Complete problem (here the Traveling salesman Problem). We do that by making a polynomial reduction\n",
    "\n",
    "#### Our problem $\\in$ NP\n",
    "#### Our problem NP-Hard\n",
    "\n",
    "### 4. References"
   ]
  },
  {
   "cell_type": "markdown",
   "metadata": {},
   "source": [
    "## II. Algorithmic design and implementation"
   ]
  },
  {
   "cell_type": "markdown",
   "metadata": {},
   "source": [
    "\n",
    "## III. Experimental study"
   ]
  },
  {
   "cell_type": "markdown",
   "metadata": {},
   "source": [
    "## IV. Presentation of the work done to your team (in English) before submitting the deliverables to ADEME"
   ]
  }
 ],
 "metadata": {
  "language_info": {
   "name": "python"
  }
 },
 "nbformat": 4,
 "nbformat_minor": 2
}
