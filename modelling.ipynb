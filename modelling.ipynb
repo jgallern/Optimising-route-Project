{
 "cells": [
  {
   "cell_type": "markdown",
   "metadata": {},
   "source": [
    "# Route Optimisation Project\n",
    "\n",
    "* GUG Maxime\n",
    "* AYOUB Simon\n",
    "* KISA Yasin\n",
    "* GALLERNE Jules\n"
   ]
  },
  {
   "cell_type": "markdown",
   "metadata": {},
   "source": [
    "## Table of content\n",
    "\n",
    "* I. [Formal modelling](#1-formal-modelling) \n",
    "* II.  [Algorithmic design and implementation](#2-algorithmic-design-and-implementation)\n",
    "* III. [Experimental study](#3-experimental-study)\n",
    "* IV. [Presentation of the work done to your team (in English) before submitting the deliverables to ADEME](#4-presentation-of-the-work-done-to-your-team-in-english-before-submitting-the-deliverables-to-ademe)"
   ]
  },
  {
   "cell_type": "markdown",
   "metadata": {},
   "source": [
    "## I. Formal modelling \n",
    "\n",
    "### 1. Presentation of the context\n",
    "\n",
    "In the context of climate change, ADEME has launched a call for proposals focused on innovative and sustainable mobility solutions for both people and goods. The agency aims to foster experimental projects that demonstrate efficient, sustainable methods for transportation, adapted to different kind of territories and fields. This way, they aim to combat climate change by optimizing existing technologies.\n",
    "\n",
    "As part of CesiCDP, a team with a strong background in Smart Multimodal Mobility, we are a good fit to respond to this call. With our experience developing advanced transportation systems, we recognize both the potential and the challenges of new transport technologies. Although these technologies promise to be cleaner and more economical, they bring their own logistical complexities, especially in resource management. Addressing these issues in transport logistics could be transformative, not only for the industry but for the environment as well-through applications in diverse areas such as mail distribution, product delivery, road network maintenance, waste collection and much more.\n",
    "\n",
    "The objective of this project is to optimize delivery routes to minimize environmental impact while increasing efficiency. Our team’s goal is to propose an algorithmic solution that computes optimal delivery routes across a road network, linking various cities and returning to the origin point. The solution will minimize the total journey time while accounting for projected traffic conditions over various time slots and perhaps trucks capacity.\n",
    "\n",
    "### 2. Presentation of the problem\n",
    "\n",
    "Our Problem is a typical Vehicle routing problem. The Vehicule routing is a classical problem in the field of Transportation. Our goal is to go through each given cities (delivery points) and to return to the starting point in the smallest amount of time possible.\n",
    "We could also take into consideration the opening hours of the clients as well as the capacity of the trucks (either in terms of surface or volume)\n",
    "\n",
    "#### Parameters to take as input\n",
    "list of:\n",
    "* Cities\n",
    "\t* city name\n",
    "\t* city coordinates\n",
    "\t* delivery time slot (optional)\n",
    "\n",
    "* Available trucks (optional)\n",
    "    * Truck Capacity (surface / volume)\n",
    "\n",
    "* Items to deliver (optional)\n",
    "    * Item name\n",
    "    * Item size (surface / volume)\n",
    "    * Item Destination\n",
    "\n",
    "#### Result to return\n",
    "\n",
    "* The shortest path to go to each cities.\n",
    "    * path for each truck (if truck multiple trucks)\n",
    "\n",
    "with:\n",
    "    * Time at each destination (optional)\n",
    "    * Items in each truck (if item list)\n",
    "\n",
    "### 3. Theoratical properties that we'll use and their formalisation \n",
    "\n",
    "We want to prove that our problem is NP-Complete.\n",
    "To do that, we need to demonstrate 2 things:\n",
    "* That our problem $\\in$ NP, that means that we can verify a solution in a polynomial time.\n",
    "* That our problem is at least as hard as another NP-Complete problem (here the Traveling salesman Problem, and then the Hamiltonian cycle). We do that by making a polynomial reduction\n",
    "\n",
    "#### Our problem $\\in$ NP\n",
    "#### Our problem NP-Hard\n",
    "\n",
    "### 4. References"
   ]
  },
  {
   "cell_type": "markdown",
   "metadata": {},
   "source": [
    "## II. Algorithmic design and implementation"
   ]
  },
  {
   "cell_type": "markdown",
   "metadata": {},
   "source": [
    "\n",
    "## III. Experimental study"
   ]
  },
  {
   "cell_type": "markdown",
   "metadata": {},
   "source": [
    "## IV. Presentation of the work done to your team (in English) before submitting the deliverables to ADEME"
   ]
  }
 ],
 "metadata": {
  "language_info": {
   "name": "python"
  }
 },
 "nbformat": 4,
 "nbformat_minor": 2
}
